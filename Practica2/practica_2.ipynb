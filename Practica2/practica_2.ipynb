{
 "cells": [
  {
   "cell_type": "markdown",
   "id": "4ad60680-68ce-410c-b0e2-b4c1c133cd82",
   "metadata": {},
   "source": [
    "# Práctica 2: Modelo cinemático inverso de un manipulador y planteamiento de trayectoria\n",
    "\n",
    "## Objetivo\n",
    "\n",
    "El objetivo de esta práctica es que el alumno comprenda, interprete y modifique la información básica de los formatos de Universal Robot Description File (URDF).\n",
    "\n",
    "\n",
    "### Metas \n",
    "\n",
    "- Que el alumno aplique un modelo cinemático inverso para calcular una trayectoria a partir de una posición actual hacia una posición final\n",
    "- Que el alumno grafique y analice los resultados del modelo\n",
    "\n",
    "### Contribución al perfil del egresado\n",
    "\n",
    "La siguiente práctica contribuye en los siguientes puntos al perfil del egresado:\n",
    "\n",
    "#### Aptitudes y habilidades\n",
    "\n",
    "- Para modelar, simular e interpretar el comportamiento de los sistemas mecatrónicos.\n",
    "- Para diseñar, construir, operar y mantener los sistemas mecatrónicos y sus componentes.\n",
    "\n",
    "#### Actitudes\n",
    "\n",
    "- Tener confianza en su preparación académica.\n",
    "- Comprometido con su actualización, superación y competencia profesional.\n",
    "\n",
    "#### De tipo social\n",
    "\n",
    "- Promover el cambio en la mentalidad frente a la competitividad internacional.\n",
    "\n",
    "## Rúbrica de evaluación\n",
    "\n",
    "La evaluación de la práctica contará de los siguientes puntos y se evaluará con los siguientes criterios:\n",
    "\n",
    "| Elemento | Porcentaje |\n",
    "| ------:| -----------:|\n",
    "| **Cuestionario previo** | 15% | \n",
    "| **Desarrollo** | 35% |\n",
    "| **Análisis de resultados**  | 35% |\n",
    "| **Conclusiones** | 15% |\n",
    "\n",
    "<br>\n",
    "\n",
    "\n",
    "| Elemento | Malo | Regular | Bueno |\n",
    "| ------:| ------ | --------| ------|\n",
    "| **Cuestionario previo** | El trabajo no contiene cuestionario previo o todas las preguntas son incorrectas (0%)| Al menos la mitad de las preguntas son correctas (8%) |  Todas las preguntas son correctas (15%) |\n",
    "| **Desarrollo** | El trabajo no contiene desarrollo o su planteamiento no concuerda con lo deseado (0%) | El desarrollo está mal planteado o no llega a los resultados esperados (10%) | El desarrollo tiene un planteamiento adecuado y llega a los resultados esperados (35%) |\n",
    "| **Análisis de resultados**  | El trabajo no contiene análisis de resultados o la información no se está interpretando correctamente (0%) | La interpretación de los resultados es parcial o desorganizada (10%) | Realiza un correcto análisis de los resultados de forma organizada   (35%) |\n",
    "| **Conclusiones** | El trabajo no contiene conclusiones o no hacen referencia al trabajo desarrollado y los objetivos planteados (0%) | La redacción de las conclusiones es desorganizada o confusa (8%) | Las conclusiones del trabajo son claras y hacen referencia al trabajo desarrollado y los objetivos planteados (15%) | \n",
    "\n"
   ]
  },
  {
   "cell_type": "markdown",
   "id": "e5ff673e-01fd-4484-99fe-3a26e38c516e",
   "metadata": {
    "jp-MarkdownHeadingCollapsed": true
   },
   "source": [
    "## Introducción\n",
    "\n",
    "### Transformaciones homogéneas\n",
    "Las transformaciones homogéneas permiten hacer el planteamiento del modelo cinemático de un robot, considerando las posiciones y orientaciones de las juntas del robot respecto al sistema de referencia de una junta anterior\n",
    "\n",
    "Este planteamiento es el **modelo de cinemática directa**, que nos permite obtener la posición y velocidad del efector final de un manipulador en términos de los valores de la posición y velocidad de sus juntas (espacio de trabajo)\n",
    "\n",
    "A través de este modelo se puede obtener el **modelo de cinemática inversa**, que permite obtener la velocidad de las juntas de un robot a partir de la velocidad deseada del efector final.\n",
    "\n",
    "### Planteamiento de una trayectoria\n",
    "Si se conoce el punto inicial y final de una trayectoria deseada, se pueden obtener los puntos intermedios de la trayectoria. La forma más fácil de realizar esta interpolación es a través de un spline. El orden del spline permitirá controlar las condiciones inicial y final de la posición, velocidad ó aceleración que tendrá el efector final durante el trayecto. \n",
    "\n",
    "Juntando la interpolación de la trayectoria y el modelo de la cinemática inversa, se pueden obtener todos los puntos intermedios de la trayectoria que deben seguir las juntas del robot para que el efector final siga una trayectoria."
   ]
  },
  {
   "cell_type": "markdown",
   "id": "4d392cc9-9f13-45dd-aeab-49a3ef991dc5",
   "metadata": {},
   "source": [
    "## Cuestionario previo\n",
    "\n",
    "Responder de forma breve las siguientes preguntas:\n",
    "\n",
    "- ¿Que son las transformaciones homogéneas?\n",
    ">Respuesta \n",
    "\n",
    "- ¿Que nos permite obtener el modelo de cinemática directa de un manipulador?\n",
    ">Respuesta\n",
    "\n",
    "- ¿Que nos permite obtener el modelo de cinemática inversa de un manipulador?\n",
    ">Respuesta\n",
    "\n",
    "- ¿De que formas se puede interpolar la trayectoria de un efector final entre dos puntos?\n",
    ">Respuesta"
   ]
  },
  {
   "cell_type": "markdown",
   "id": "3b07ad0c-3cff-4753-a3df-3f8d5ee2325d",
   "metadata": {},
   "source": [
    "## Desarrollo\n",
    "\n",
    "### 1. Planteamiento de la cinemática directa\n",
    "En esta primera parte, se crearán las transformaciones homogéneas y el modelo de cinemática directa de un robot RRR, incluyendo la matriz del Jacobiano. Se recomienda usar **Sympy** para el planteamiento de las expresiones. \n",
    "Un diagrama del robot se muestra en la imagen:\n",
    "\n",
    "<img src=\"imagenes/p2_1.png\" alt = \"Robot RRR\" width=\"300\" height=\"300\" display= \"block\"/>\n",
    "\n",
    "** Considerar valores cualesquiera para las dimensiones de los eslabones y la posición inicial de las juntas"
   ]
  },
  {
   "cell_type": "markdown",
   "id": "eca7f46f-58cc-487a-8260-52e871de8564",
   "metadata": {},
   "source": [
    "# Primero se colocaron las librerias a utilizar:\n",
    "\n",
    "### #!/usr/bin/env python3\n",
    "### from sympy import *\n",
    "### import matplotlib\n",
    "### import matplotlib.pyplot as plt\n",
    "## Con las librerias colocadas se asignan valores a los eslabones de forma que:\n",
    "### L1 = 0.7 [m]\n",
    "### L2 = 0.5 [m]\n",
    "### L3 = 0.3 [m]"
   ]
  },
  {
   "cell_type": "code",
   "execution_count": 9,
   "id": "07e04c95-5026-4267-bce4-e9c83047ca65",
   "metadata": {},
   "outputs": [],
   "source": [
    "class GeneradorTrayectoria():\n",
    "    def __init__(self, dim = (0.7,0.5,0.3)):\n",
    "        self.dim = dim"
   ]
  },
  {
   "cell_type": "markdown",
   "id": "e06af2c4-8bdf-4c84-acf3-78cd92210330",
   "metadata": {},
   "source": [
    "## -> Después colocamos la Matriz de Transformación Homogénea:"
   ]
  },
  {
   "cell_type": "code",
   "execution_count": 10,
   "id": "eb27d686-f090-499e-8c03-85f9c76a60f3",
   "metadata": {},
   "outputs": [],
   "source": [
    "    def trans_homo(self, x, y, z, gamma, beta, alpha):\n",
    "        R_z = Matrix([ [cos(alpha), -sin(alpha), 0], [sin(alpha), cos(alpha), 0],[0, 0, 1]])\n",
    "        R_y = Matrix([ [cos(beta), 0, -sin(beta)], [0, 1, 0],[sin(beta), 0, cos(beta)]])\n",
    "        R_x = Matrix([ [1, 0, 0], [0, cos(gamma), -sin(gamma)],[0, sin(gamma), cos(gamma)]])\n",
    "        R = R_x * R_y *R_z\n",
    "        p = Matrix([[x],[y],[z]])\n",
    "        T = Matrix.vstack(Matrix.hstack(R, p), Matrix([[0,0,0,1]]))\n",
    "        return T "
   ]
  },
  {
   "cell_type": "markdown",
   "id": "bf60086b-13f3-40d0-8276-5ba6cc640147",
   "metadata": {},
   "source": [
    "## -> Con ambos datos se modela la Cinemática Directa:"
   ]
  },
  {
   "cell_type": "code",
   "execution_count": 12,
   "id": "7cfb244b-8809-494e-82e2-70bfb6ba98f3",
   "metadata": {},
   "outputs": [],
   "source": [
    "    def cinematica_directa(self):\n",
    "        print(\"Generando cinematica directa\")\n",
    "        self.theta_0_1, self.theta_1_2, self.theta_2_3 = symbols(\"theta_0_1 theta_1_2 theta_2_3\")\n",
    "        #Matrices de transformación\n",
    "        self.T_0_1 = self.trans_homo(0, 0, 0, pi/2, 0, self.theta_0_1)\n",
    "        self.T_1_2 = self.trans_homo(self.dim[0], 0, 0, 0, 0, self.theta_1_2)\n",
    "        self.T_2_3 = self.trans_homo(self.dim[1], 0, 0, 0, 0, self.theta_2_3)\n",
    "        self.T_3_P = self.trans_homo(self.dim[2], 0, 0, 0, 0, 0)\n",
    "        self.T_0_P = simplify(self.T_0_1 * self.T_1_2 * self.T_2_3 * self.T_3_P)\n",
    "        #Vector de postura xi = [x z th]\n",
    "        self.xi_0_P = Matrix([[self.T_0_P[0, 3]],\n",
    "                              [self.T_0_P[2, 3]],\n",
    "                              [self.theta_0_1 + self.theta_1_2 + self.theta_2_3]])"
   ]
  },
  {
   "cell_type": "markdown",
   "id": "dcd2ab73-8dcd-4b21-ae78-9158c72d99dc",
   "metadata": {},
   "source": [
    "### 2. Planteamiento de la trayectoria\n",
    "\n",
    "En esta segunda parte, se planteará el código que permita definir los puntos intermedios de una trayectoria, la cual debe tener velocidades y aceleraciones nulas al inicio y al final. Se deben incluir también las gráficas de la posición, velocidad y aceleración del efector final. \n",
    "\n",
    "Calcular la trayectoria considerando de forma general tiempo de duración, puntos inicial y final, y con una tasa de muestreo de 30 muestras por segundo. "
   ]
  },
  {
   "cell_type": "code",
   "execution_count": null,
   "id": "7f8c0471-6213-446b-ab20-6133131e4a97",
   "metadata": {},
   "outputs": [],
   "source": [
    "# Colocar y correr el código dentro de estas celdas. \n",
    "# Agregar cuantas consideren conveniente"
   ]
  },
  {
   "cell_type": "markdown",
   "id": "9bc9e456-2272-4e0f-9cd2-d69f8d1757a1",
   "metadata": {},
   "source": [
    "### 3. Cinemática inversa\n",
    "A partir del modelo de la cinemática directa, obtener la expresión e la cinemática inversa, que relacione las velocidades de las juntas del robot con la velocidad del efector final. Ya que el modelo de cinemática inversa sólo permite obtener velocidades, obtener también expresiones que permitan obtener la posición de las juntas y sus aceleraciones"
   ]
  },
  {
   "cell_type": "code",
   "execution_count": null,
   "id": "0b021465-446c-4e56-b354-492ee72c4308",
   "metadata": {},
   "outputs": [],
   "source": [
    "# Colocar y correr el código dentro de estas celdas. \n",
    "# Agregar cuantas consideren conveniente"
   ]
  },
  {
   "cell_type": "markdown",
   "id": "f117b534-3249-480e-8751-b568cfe8d0c8",
   "metadata": {},
   "source": [
    "### 4. Aplicación de la cinemática inversa\n",
    "Finalmente, a partir de los puntos de la trayectoria y el modelo de cinemática inversa, obtener las posiciones, velocidades y aceleraciones de las juntas del robot, así como sus gráficas en función del tiempo"
   ]
  },
  {
   "cell_type": "code",
   "execution_count": null,
   "id": "e1f68eac-4f05-4622-b046-9e8f215a02ad",
   "metadata": {},
   "outputs": [],
   "source": [
    "# Colocar y correr el código dentro de estas celdas. \n",
    "# Agregar cuantas consideren conveniente"
   ]
  },
  {
   "cell_type": "markdown",
   "id": "10be6423",
   "metadata": {},
   "source": [
    "### 5. Aplicación de la cinemática inversa\n",
    "Para terminar, subir los archivos de la práctica al repositorio de github"
   ]
  },
  {
   "attachments": {},
   "cell_type": "markdown",
   "id": "3a88c47d-d8a3-43cb-afee-5d54559450a7",
   "metadata": {
    "jp-MarkdownHeadingCollapsed": true
   },
   "source": [
    "## Análisis de resultados\n",
    "\n",
    "- ¿Qué utilidad tuvo usar el modelo de cinemática inversa de un robot?\n",
    "> Respuesta\n",
    "\n",
    "- ¿Qué utilidad tiene el modelo de cinemática inversa de un robot?\n",
    "> Respuesta\n",
    "\n",
    "- ¿Qué utilidad tiene el modelo de cinemática inversa de un robot?\n",
    "> Respuesta\n",
    "\n",
    "\n"
   ]
  },
  {
   "cell_type": "markdown",
   "id": "ed674101-3cbf-4c0e-b0cc-dcddfb09fba5",
   "metadata": {},
   "source": [
    "## Conclusiones\n",
    "\n",
    "> Respuesta\n",
    "\n",
    "## Bibliografía \n",
    "\n",
    "> En caso de usarse, se deben hacer referencia a la información implementada en formato ieee\n",
    "\n",
    "\n"
   ]
  }
 ],
 "metadata": {
  "kernelspec": {
   "display_name": "Python 3 (ipykernel)",
   "language": "python",
   "name": "python3"
  },
  "language_info": {
   "codemirror_mode": {
    "name": "ipython",
    "version": 3
   },
   "file_extension": ".py",
   "mimetype": "text/x-python",
   "name": "python",
   "nbconvert_exporter": "python",
   "pygments_lexer": "ipython3",
   "version": "3.10.12"
  }
 },
 "nbformat": 4,
 "nbformat_minor": 5
}

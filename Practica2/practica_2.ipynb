{
 "cells": [
  {
   "cell_type": "markdown",
   "id": "4ad60680-68ce-410c-b0e2-b4c1c133cd82",
   "metadata": {},
   "source": [
    "# Práctica 2: Modelo cinemático inverso de un manipulador y planteamiento de trayectoria\n",
    "\n",
    "## Objetivo\n",
    "\n",
    "El objetivo de esta práctica es que el alumno comprenda, interprete y modifique la información básica de los formatos de Universal Robot Description File (URDF).\n",
    "\n",
    "\n",
    "### Metas \n",
    "\n",
    "- Que el alumno aplique un modelo cinemático inverso para calcular una trayectoria a partir de una posición actual hacia una posición final\n",
    "- Que el alumno grafique y analice los resultados del modelo\n",
    "\n",
    "### Contribución al perfil del egresado\n",
    "\n",
    "La siguiente práctica contribuye en los siguientes puntos al perfil del egresado:\n",
    "\n",
    "#### Aptitudes y habilidades\n",
    "\n",
    "- Para modelar, simular e interpretar el comportamiento de los sistemas mecatrónicos.\n",
    "- Para diseñar, construir, operar y mantener los sistemas mecatrónicos y sus componentes.\n",
    "\n",
    "#### Actitudes\n",
    "\n",
    "- Tener confianza en su preparación académica.\n",
    "- Comprometido con su actualización, superación y competencia profesional.\n",
    "\n",
    "#### De tipo social\n",
    "\n",
    "- Promover el cambio en la mentalidad frente a la competitividad internacional.\n",
    "\n",
    "## Rúbrica de evaluación\n",
    "\n",
    "La evaluación de la práctica contará de los siguientes puntos y se evaluará con los siguientes criterios:\n",
    "\n",
    "| Elemento | Porcentaje |\n",
    "| ------:| -----------:|\n",
    "| **Cuestionario previo** | 15% | \n",
    "| **Desarrollo** | 35% |\n",
    "| **Análisis de resultados**  | 35% |\n",
    "| **Conclusiones** | 15% |\n",
    "\n",
    "<br>\n",
    "\n",
    "\n",
    "| Elemento | Malo | Regular | Bueno |\n",
    "| ------:| ------ | --------| ------|\n",
    "| **Cuestionario previo** | El trabajo no contiene cuestionario previo o todas las preguntas son incorrectas (0%)| Al menos la mitad de las preguntas son correctas (8%) |  Todas las preguntas son correctas (15%) |\n",
    "| **Desarrollo** | El trabajo no contiene desarrollo o su planteamiento no concuerda con lo deseado (0%) | El desarrollo está mal planteado o no llega a los resultados esperados (10%) | El desarrollo tiene un planteamiento adecuado y llega a los resultados esperados (35%) |\n",
    "| **Análisis de resultados**  | El trabajo no contiene análisis de resultados o la información no se está interpretando correctamente (0%) | La interpretación de los resultados es parcial o desorganizada (10%) | Realiza un correcto análisis de los resultados de forma organizada   (35%) |\n",
    "| **Conclusiones** | El trabajo no contiene conclusiones o no hacen referencia al trabajo desarrollado y los objetivos planteados (0%) | La redacción de las conclusiones es desorganizada o confusa (8%) | Las conclusiones del trabajo son claras y hacen referencia al trabajo desarrollado y los objetivos planteados (15%) | \n",
    "\n"
   ]
  },
  {
   "cell_type": "markdown",
   "id": "e5ff673e-01fd-4484-99fe-3a26e38c516e",
   "metadata": {
    "jp-MarkdownHeadingCollapsed": true
   },
   "source": [
    "## Introducción\n",
    "\n",
    "### Transformaciones homogéneas\n",
    "Las transformaciones homogéneas permiten hacer el planteamiento del modelo cinemático de un robot, considerando las posiciones y orientaciones de las juntas del robot respecto al sistema de referencia de una junta anterior\n",
    "\n",
    "Este planteamiento es el **modelo de cinemática directa**, que nos permite obtener la posición y velocidad del efector final de un manipulador en términos de los valores de la posición y velocidad de sus juntas (espacio de trabajo)\n",
    "\n",
    "A través de este modelo se puede obtener el **modelo de cinemática inversa**, que permite obtener la velocidad de las juntas de un robot a partir de la velocidad deseada del efector final.\n",
    "\n",
    "### Planteamiento de una trayectoria\n",
    "Si se conoce el punto inicial y final de una trayectoria deseada, se pueden obtener los puntos intermedios de la trayectoria. La forma más fácil de realizar esta interpolación es a través de un spline. El orden del spline permitirá controlar las condiciones inicial y final de la posición, velocidad ó aceleración que tendrá el efector final durante el trayecto. \n",
    "\n",
    "Juntando la interpolación de la trayectoria y el modelo de la cinemática inversa, se pueden obtener todos los puntos intermedios de la trayectoria que deben seguir las juntas del robot para que el efector final siga una trayectoria."
   ]
  },
  {
   "cell_type": "markdown",
   "id": "4d392cc9-9f13-45dd-aeab-49a3ef991dc5",
   "metadata": {},
   "source": [
    "## Cuestionario previo\n",
    "\n",
    "Responder de forma breve las siguientes preguntas:\n",
    "\n",
    "- ¿Que son las transformaciones homogéneas?\n",
    ">Respuesta \n",
    "\n",
    "- ¿Que nos permite obtener el modelo de cinemática directa de un manipulador?\n",
    ">Respuesta\n",
    "\n",
    "- ¿Que nos permite obtener el modelo de cinemática inversa de un manipulador?\n",
    ">Respuesta\n",
    "\n",
    "- ¿De que formas se puede interpolar la trayectoria de un efector final entre dos puntos?\n",
    ">Respuesta"
   ]
  },
  {
   "cell_type": "markdown",
   "id": "3b07ad0c-3cff-4753-a3df-3f8d5ee2325d",
   "metadata": {},
   "source": [
    "## Desarrollo\n",
    "\n",
    "# 1. Planteamiento de la cinemática directa\n",
    "En esta primera parte, se crearán las transformaciones homogéneas y el modelo de cinemática directa de un robot RRR, incluyendo la matriz del Jacobiano. Se recomienda usar **Sympy** para el planteamiento de las expresiones. \n",
    "Un diagrama del robot se muestra en la imagen:\n",
    "\n",
    "<img src=\"imagenes/p2_1.png\" alt = \"Robot RRR\" width=\"300\" height=\"300\" display= \"block\"/>\n",
    "\n",
    "** Considerar valores cualesquiera para las dimensiones de los eslabones y la posición inicial de las juntas"
   ]
  },
  {
   "cell_type": "markdown",
   "id": "eca7f46f-58cc-487a-8260-52e871de8564",
   "metadata": {},
   "source": [
    "### 1.1 Primero se colocaron las librerias a utilizar:\n",
    "\n",
    "Con las librerias colocadas se asignan valores a los eslabones de forma que:\n",
    "\n",
    "L1 = 0.7 [m]\n",
    "\n",
    "L2 = 0.5 [m]\n",
    "\n",
    "L3 = 0.3 [m]"
   ]
  },
  {
   "cell_type": "code",
   "execution_count": 5,
   "id": "0eb2c852-fa2c-4f48-b8a2-45c9a09362ff",
   "metadata": {},
   "outputs": [],
   "source": [
    "#!/usr/bin/env python3 \n",
    "from sympy import *\n",
    "import matplotlib\n",
    "import matplotlib.pyplot as plt"
   ]
  },
  {
   "cell_type": "code",
   "execution_count": 6,
   "id": "07e04c95-5026-4267-bce4-e9c83047ca65",
   "metadata": {},
   "outputs": [],
   "source": [
    "class GeneradorTrayectoria():\n",
    "    def __init__(self, dim = (0.7,0.5,0.3)):\n",
    "        self.dim = dim"
   ]
  },
  {
   "cell_type": "markdown",
   "id": "e06af2c4-8bdf-4c84-acf3-78cd92210330",
   "metadata": {},
   "source": [
    "### 1.2 Después colocamos la Matriz de Transformación Homogénea:"
   ]
  },
  {
   "cell_type": "code",
   "execution_count": 7,
   "id": "eb27d686-f090-499e-8c03-85f9c76a60f3",
   "metadata": {},
   "outputs": [],
   "source": [
    "    def trans_homo(self, x, y, z, gamma, beta, alpha):\n",
    "        R_z = Matrix([ [cos(alpha), -sin(alpha), 0], [sin(alpha), cos(alpha), 0],[0, 0, 1]])\n",
    "        R_y = Matrix([ [cos(beta), 0, -sin(beta)], [0, 1, 0],[sin(beta), 0, cos(beta)]])\n",
    "        R_x = Matrix([ [1, 0, 0], [0, cos(gamma), -sin(gamma)],[0, sin(gamma), cos(gamma)]])\n",
    "        R = R_x * R_y *R_z\n",
    "        p = Matrix([[x],[y],[z]])\n",
    "        T = Matrix.vstack(Matrix.hstack(R, p), Matrix([[0,0,0,1]]))\n",
    "        return T "
   ]
  },
  {
   "cell_type": "markdown",
   "id": "bf60086b-13f3-40d0-8276-5ba6cc640147",
   "metadata": {},
   "source": [
    "### 1.3 Con ambos datos se modela la Cinemática Directa y se agrega el Vector de Postura (ξ): \n",
    "Usando las matrices de transformación de cada valor de \"θ\" hasta llegar a el valor del efector final"
   ]
  },
  {
   "cell_type": "code",
   "execution_count": 8,
   "id": "7cfb244b-8809-494e-82e2-70bfb6ba98f3",
   "metadata": {},
   "outputs": [],
   "source": [
    "    def cinematica_directa(self):\n",
    "        print(\"Generando cinematica directa\")\n",
    "        self.theta_0_1, self.theta_1_2, self.theta_2_3 = symbols(\"theta_0_1 theta_1_2 theta_2_3\")\n",
    "        #Matrices de transformación\n",
    "        self.T_0_1 = self.trans_homo(0, 0, 0, pi/2, 0, self.theta_0_1)\n",
    "        self.T_1_2 = self.trans_homo(self.dim[0], 0, 0, 0, 0, self.theta_1_2)\n",
    "        self.T_2_3 = self.trans_homo(self.dim[1], 0, 0, 0, 0, self.theta_2_3)\n",
    "        self.T_3_P = self.trans_homo(self.dim[2], 0, 0, 0, 0, 0)\n",
    "        self.T_0_P = simplify(self.T_0_1 * self.T_1_2 * self.T_2_3 * self.T_3_P)\n",
    "        #Vector de postura xi = [x z th]\n",
    "        self.xi_0_P = Matrix([[self.T_0_P[0, 3]],\n",
    "                              [self.T_0_P[2, 3]],\n",
    "                              [self.theta_0_1 + self.theta_1_2 + self.theta_2_3]])"
   ]
  },
  {
   "cell_type": "markdown",
   "id": "dcd2ab73-8dcd-4b21-ae78-9158c72d99dc",
   "metadata": {},
   "source": [
    "# 2. Planteamiento de la trayectoria\n",
    "\n",
    "En esta segunda parte, se planteará el código que permita definir los puntos intermedios de una trayectoria, la cual debe tener velocidades y aceleraciones nulas al inicio y al final. Se deben incluir también las gráficas de la posición, velocidad y aceleración del efector final. \n",
    "\n",
    "Calcular la trayectoria considerando de forma general tiempo de duración, puntos inicial y final, y con una tasa de muestreo de 30 muestras por segundo. "
   ]
  },
  {
   "cell_type": "markdown",
   "id": "6fb7b85b-0d6d-4e15-9c19-16207855b5b4",
   "metadata": {
    "editable": true,
    "slideshow": {
     "slide_type": ""
    },
    "tags": []
   },
   "source": [
    "### 2.1 Perfil de velocidad \n",
    "Para un movimiento suave, se plantea un polinomio de lamdba (λ) de 6° grado.\n",
    "\n",
    "· Una vez obtenido el polinomio, calculamos su primera y segunda derivada para obtener la velocidad y aceleración con el mismo perfil\n",
    "\n",
    "· Sabiendo que las velocidades y aceleraciones al inicio y al final son nulas, se calculan los parámetros de lambda y nos da el polinomio lambda con el valor de sus coeficientes"
   ]
  },
  {
   "cell_type": "markdown",
   "id": "c287f9b3-341b-40fc-b676-646305fd3082",
   "metadata": {},
   "source": [
    "### 2.2 Posición inicial de los eslabones:\n",
    "Se considera la posición inicial de los eslabones para también calcular la posición inicial del efector (ξ)\n",
    "\n",
    "· Para el robot mostrado anteriormente se considero para la posición inicial (q_in): (π/4, π/8, π/8).\n",
    "\n",
    "· Para obtener un muestreo de 30/seg, colocamos la frecuencia igual a 15 \n",
    "\n",
    "· Se calcula la posición inicial del efector final con ayuda de la posición inicial q_in\n",
    "\n",
    "· Obtenido el efector final, se calculan las posiciones, velocidades y aceleraciones del espacio de trabajo"
   ]
  },
  {
   "cell_type": "markdown",
   "id": "44d55e3d-cb8b-46ef-8f92-55a2416e53ee",
   "metadata": {},
   "source": [
    "### 2.3 Muestreo de tiempo\n",
    "Se hacen las iteraciones para obtener los puntos que definiran  las curvas de posiciones, velocidades y aceleraciones de los eslabones hasta llegar a la posición final del efector final\n",
    "\n",
    "Al final el codigo para la Generación de Trayectoria:"
   ]
  },
  {
   "cell_type": "code",
   "execution_count": 9,
   "id": "043679dd-51b4-4bb6-8fab-92d7693a2b7b",
   "metadata": {
    "editable": true,
    "scrolled": true,
    "slideshow": {
     "slide_type": ""
    },
    "tags": []
   },
   "outputs": [],
   "source": [
    "    def generar_trayectoria(self, q_in = (pi/4, pi/8, pi/8), xi_fn = (0.5, 0.2, 0), tie = (0, 2), frec = 15):\n",
    "        print(\"Creando trayectoria\")\n",
    "        #Variables para polinomio lambda\n",
    "        self.t, self.a_0, self.a_1, self.a_2, self.a_3, self.a_4, self.a_5 = symbols(\n",
    "        \"t a_0 a_1 a_2 a_3 a_4 a_5\")\n",
    "        #Polinomio lambda lam = a0 + a1t + a2t^2 + a3t^3 + a4t^4 + a5t^5\n",
    "        self.lam = self.a_0 + self.a_1 * self.t + self.a_2 * (self.t)**2 + self.a_3 * (self.t)**3 + self.a_4 * (self.t)**4+ self.a_5 * (self.t)**5\n",
    "        #Primera y segunda derivada de lambda\n",
    "        self.lam_dot = diff(self.lam, self.t)\n",
    "        self.lam_dot_dot = diff(self.lam_dot, self.t)\n",
    "        # Cálculo de parámetros de lambda. \n",
    "        # Planteando ecuaciones igualadas a cero\n",
    "        # lam(t=ti) = 0\n",
    "        # lam(t=tf) = 1   ==>  lam(t=tf) -1 = 0\n",
    "        # lam'(t=ti) = 0\n",
    "        # lam'(t=tf) = 0\n",
    "        # lam''(t=ti) = 0\n",
    "        # lam''(t=tf) = 0\n",
    "        ec_1 = self.lam.subs(self.t, tie[0])\n",
    "        ec_2 = self.lam.subs(self.t, tie[1]) - 1\n",
    "        ec_3 = self.lam_dot.subs(self.t, tie[0])\n",
    "        ec_4 = self.lam_dot.subs(self.t, tie[1])\n",
    "        ec_5 = self.lam_dot_dot.subs(self.t, tie[0])\n",
    "        ec_6 = self.lam_dot_dot.subs(self.t, tie[1])\n",
    "        # Resolviendo sistema para las variables a0-a5\n",
    "        terminos = solve([ec_1, ec_2, ec_3, ec_4, ec_5, ec_6], [self.a_0, self.a_1, self.a_2, self.a_3, self.a_4, self.a_5], dict = True)\n",
    "        # Tomando la primera solución devuelta y sustituyéndola en el polinomio\n",
    "        self.lam_s          = self.lam.subs(terminos[0])\n",
    "        self.lam_dot_s      = self.lam_dot.subs(terminos[0])\n",
    "        self.lam_dot_dot_s  = self.lam_dot_dot.subs(terminos[0])\n",
    "    \n",
    "        # Calculo de la posicion inicial del efector final a partir del vector de postura\n",
    "        xi_in = self.xi_0_P.subs({\n",
    "          self.theta_0_1: q_in[0],\n",
    "          self.theta_1_2: q_in[1],\n",
    "          self.theta_2_3: q_in[2]\n",
    "        })\n",
    "        # Posiciones de espacio de trabajo\n",
    "        # xi = xi_in + lam(t) * (xi_fn - xi_in) \n",
    "        self.xi = xi_in + Matrix([\n",
    "          [self.lam_s * (xi_fn[0] - xi_in[0])],\n",
    "          [self.lam_s * (xi_fn[1] - xi_in[1])],\n",
    "          [self.lam_s * (xi_fn[2] - xi_in[2])]\n",
    "        ])\n",
    "        # Velocidades de espacio de trabajo\n",
    "        # xi' = lam'(t) * (xi_fn - xi_in)\n",
    "        self.xi_dot = Matrix([\n",
    "          [self.lam_dot_s * (xi_fn[0] - xi_in[0])],\n",
    "          [self.lam_dot_s * (xi_fn[1] - xi_in[1])],\n",
    "          [self.lam_dot_s * (xi_fn[2] - xi_in[2])]\n",
    "        ])\n",
    "        # Aceleraciones de espacio de trabajo\n",
    "        # xi'' = lam''(t) * (xi_fn - xi_in)\n",
    "        self.xi_dot_dot = Matrix([\n",
    "          [self.lam_dot_dot_s * (xi_fn[0] - xi_in[0])],\n",
    "          [self.lam_dot_dot_s * (xi_fn[1] - xi_in[1])],\n",
    "          [self.lam_dot_dot_s * (xi_fn[2] - xi_in[2])]\n",
    "        ])\n",
    "        print(\"Vector segunda derivada\")\n",
    "        print(self.xi)\n",
    "        print(self.xi_dot)\n",
    "        print(self.xi_dot_dot)\n",
    "    \n",
    "        # Muestreo del espacio de trabajo\n",
    "        print(\"Muestreando trayectoria\")\n",
    "        # Número de muestras e incremento de tiempo\n",
    "        self.muestras = int(frec * (tie[1] - tie[0]) + 1)\n",
    "        self.dt = 1.0 / frec\n",
    "    \n",
    "        # Muestreo de tiempo entre tf y ti\n",
    "        self.t_m = Matrix.zeros(1, self.muestras)\n",
    "        self.t_m[0,0] = tie[0]\n",
    "        for a in range(self.muestras - 1):\n",
    "          self.t_m[0, a + 1] = self.t_m[0, a] + self.dt\n",
    "    \n",
    "        # Matrices vacías para guardar valores del espacio de trabajo\n",
    "        # 3 filas, n columnas (cada columna es una posición/velocidad/aceleración del espacio de trabajo en un instante)\n",
    "        self.xi_m         = Matrix.zeros(3, self.muestras)\n",
    "        self.xi_dot_m     = Matrix.zeros(3, self.muestras)\n",
    "        self.xi_dot_dot_m = Matrix.zeros(3, self.muestras)\n",
    "    \n",
    "        # Generando funciones para evitar usar lenguaje simbólico en las sustituciones\n",
    "        xi_m_func =         lambdify([self.t], self.xi)\n",
    "        xi_dot_m_func =     lambdify([self.t], self.xi_dot)\n",
    "        xi_dot_dot_m_func = lambdify([self.t], self.xi_dot_dot)\n",
    "        for a in range(self.muestras):\n",
    "          \"\"\"Así se sustituiría directo\n",
    "          self.xi_m[:,a]          = self.xi.subs(self.t, self.t_m[0, a])\n",
    "          self.xi_dot_m[:,a]      = self.xi_dot.subs(self.t, self.t_m[0, a])\n",
    "          self.xi_dot_dot_m[:,a]  = self.xi_dot_dot.subs(self.t, self.t_m[0, a])\"\"\"\n",
    "          self.xi_m[:, a]         = xi_m_func(float(self.t_m[0, a]))\n",
    "          self.xi_dot_m[:, a]     = xi_dot_m_func(float(self.t_m[0, a]))\n",
    "          self.xi_dot_dot_m[:, a] = xi_dot_dot_m_func(float(self.t_m[0, a]))\n",
    "          print(a)\n",
    "    \n",
    "        #Agregando posición inicial como variable de la clase\n",
    "        self.q_in = q_in"
   ]
  },
  {
   "cell_type": "markdown",
   "id": "4c81efce-7f77-436a-b843-60c9e5229185",
   "metadata": {},
   "source": [
    "## 2.4 Obtención de gráfica de: \n",
    "\n",
    "·Posiciones, Velocidadades, Aceleraciones del efector final nos da:\n",
    "\n",
    "<img src=\"imagenes/graficas_q.png\" alt = \"Robot RRR\" width=\"1000\" height=\"1000\" display= \"block\"/>\n",
    "\n",
    "\n",
    "· Para la posición final del efector final nos da:\n",
    "\n",
    "<img src=\"imagenes/efector_final.png\" alt = \"Robot RRR\" width=\"900\" height=\"900\" display= \"block\"/>\n",
    "\n",
    "## El codigo es:"
   ]
  },
  {
   "cell_type": "code",
   "execution_count": 14,
   "id": "9bdfc24a-82ae-44f4-9f18-ccae5b485ce7",
   "metadata": {},
   "outputs": [],
   "source": [
    "    def graficar(self):\n",
    "        fig, ((xi_g, xi_dot_g, xi_dot_dot_g),\n",
    "                  (q_g, q_dot_g, q_dot_dot_g)) = plt.subplots(nrows=2, ncols = 3)\n",
    "        #... \n",
    "        \n",
    "        # Posiciones q\n",
    "        q_g.set_title(\"Posiciones de q\")\n",
    "        q_g.plot(self.t_m.T, self.q_m[0, :].T, color = \"RED\")\n",
    "        q_g.plot(self.t_m.T, self.q_m[1, :].T, color = \"GREEN\")\n",
    "        q_g.plot(self.t_m.T, self.q_m[2, :].T, color = \"BLUE\")\n",
    "    \n",
    "        # Velocidades q\n",
    "        q_dot_g.set_title(\"Velocidades de q\")\n",
    "        q_dot_g.plot(self.t_m.T, self.q_dot_m[0, :].T, color = \"RED\")\n",
    "        q_dot_g.plot(self.t_m.T, self.q_dot_m[1, :].T, color = \"GREEN\")\n",
    "        q_dot_g.plot(self.t_m.T, self.q_dot_m[2, :].T, color = \"BLUE\")\n",
    "    \n",
    "        # Aceleraciones q\n",
    "        q_dot_dot_g.set_title(\"Aceleraciones de q\")\n",
    "        q_dot_dot_g.plot(self.t_m.T, self.q_dot_dot_m[0, :].T, color = \"RED\")\n",
    "        q_dot_dot_g.plot(self.t_m.T, self.q_dot_dot_m[1, :].T, color = \"GREEN\")\n",
    "        q_dot_dot_g.plot(self.t_m.T, self.q_dot_dot_m[2, :].T, color = \"BLUE\")\n",
    "        plt.show()\n",
    "\n",
    "        #...\n",
    "    def graficar_trayectoria(self):\n",
    "        # Cinematica directa de cada sistema de referencia\n",
    "        self.T_0_2 = self.T_0_1 * self.T_1_2\n",
    "        self.T_0_3 = self.T_0_2 * self.T_2_3\n",
    "        \n",
    "        plt.plot(self.xi_m[0, :].T, self.xi_m[1, :].T)\n",
    "        plt.axis((0, 1, 0, 1))\n",
    "        plt.show()"
   ]
  },
  {
   "cell_type": "markdown",
   "id": "9bc9e456-2272-4e0f-9cd2-d69f8d1757a1",
   "metadata": {
    "editable": true,
    "slideshow": {
     "slide_type": ""
    },
    "tags": []
   },
   "source": [
    "### 3. Cinemática inversa\n",
    "A partir del modelo de la cinemática directa, obtener la expresión e la cinemática inversa, que relacione las velocidades de las juntas del robot con la velocidad del efector final. Ya que el modelo de cinemática inversa sólo permite obtener velocidades, obtener también expresiones que permitan obtener la posición de las juntas y sus aceleraciones"
   ]
  },
  {
   "cell_type": "code",
   "execution_count": null,
   "id": "0b021465-446c-4e56-b354-492ee72c4308",
   "metadata": {},
   "outputs": [],
   "source": [
    "# Colocar y correr el código dentro de estas celdas. \n",
    "# Agregar cuantas consideren conveniente"
   ]
  },
  {
   "cell_type": "markdown",
   "id": "f117b534-3249-480e-8751-b568cfe8d0c8",
   "metadata": {},
   "source": [
    "### 4. Aplicación de la cinemática inversa\n",
    "Finalmente, a partir de los puntos de la trayectoria y el modelo de cinemática inversa, obtener las posiciones, velocidades y aceleraciones de las juntas del robot, así como sus gráficas en función del tiempo"
   ]
  },
  {
   "cell_type": "code",
   "execution_count": null,
   "id": "e1f68eac-4f05-4622-b046-9e8f215a02ad",
   "metadata": {},
   "outputs": [],
   "source": [
    "# Colocar y correr el código dentro de estas celdas. \n",
    "# Agregar cuantas consideren conveniente"
   ]
  },
  {
   "cell_type": "markdown",
   "id": "10be6423",
   "metadata": {},
   "source": [
    "### 5. Aplicación de la cinemática inversa\n",
    "Para terminar, subir los archivos de la práctica al repositorio de github"
   ]
  },
  {
   "attachments": {},
   "cell_type": "markdown",
   "id": "3a88c47d-d8a3-43cb-afee-5d54559450a7",
   "metadata": {
    "jp-MarkdownHeadingCollapsed": true
   },
   "source": [
    "## Análisis de resultados\n",
    "\n",
    "- ¿Qué utilidad tuvo usar el modelo de cinemática inversa de un robot?\n",
    "> Respuesta\n",
    "\n",
    "- ¿Qué utilidad tiene el modelo de cinemática inversa de un robot?\n",
    "> Respuesta\n",
    "\n",
    "- ¿Qué utilidad tiene el modelo de cinemática inversa de un robot?\n",
    "> Respuesta\n",
    "\n",
    "\n"
   ]
  },
  {
   "cell_type": "markdown",
   "id": "ed674101-3cbf-4c0e-b0cc-dcddfb09fba5",
   "metadata": {},
   "source": [
    "## Conclusiones\n",
    "\n",
    "> Respuesta\n",
    "\n",
    "## Bibliografía \n",
    "\n",
    "> En caso de usarse, se deben hacer referencia a la información implementada en formato ieee\n",
    "\n",
    "\n"
   ]
  }
 ],
 "metadata": {
  "kernelspec": {
   "display_name": "Python 3 (ipykernel)",
   "language": "python",
   "name": "python3"
  },
  "language_info": {
   "codemirror_mode": {
    "name": "ipython",
    "version": 3
   },
   "file_extension": ".py",
   "mimetype": "text/x-python",
   "name": "python",
   "nbconvert_exporter": "python",
   "pygments_lexer": "ipython3",
   "version": "3.10.12"
  }
 },
 "nbformat": 4,
 "nbformat_minor": 5
}
